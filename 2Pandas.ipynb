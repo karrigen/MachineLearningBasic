{
  "cells": [
    {
      "metadata": {},
      "cell_type": "markdown",
      "source": "# Dataframe"
    },
    {
      "metadata": {
        "trusted": true
      },
      "cell_type": "code",
      "source": "import pandas as pd\nimport numpy as np\nimport seaborn as sns",
      "execution_count": 2,
      "outputs": []
    },
    {
      "metadata": {
        "trusted": true
      },
      "cell_type": "code",
      "source": "food_info = pd.read_csv('food_info.csv')",
      "execution_count": 1,
      "outputs": []
    },
    {
      "metadata": {
        "trusted": true
      },
      "cell_type": "code",
      "source": "titanic = sns.load_dataset(\"titanic\")",
      "execution_count": 6,
      "outputs": []
    },
    {
      "metadata": {
        "trusted": true
      },
      "cell_type": "code",
      "source": "# General method\n\n#print(type(titanic))\n#print(titanic.dtypes)\n#food_info.head(3)\n#food_info.tail(4)\n#print(food_info.columns)\n#print(food_info.shape)\n#food_info.describe()\n#food_info.info()\ntitanic.describe(include=['object', 'bool'])  #not numerical\ntitanic['who'].value_counts(normalize=True) #`value_counts()` 方法可以查看类别（类型为 object ）和布尔值（类型为 bool ）特征。",
      "execution_count": 89,
      "outputs": [
        {
          "output_type": "execute_result",
          "execution_count": 89,
          "data": {
            "text/plain": "man      0.602694\nwoman    0.304153\nchild    0.093154\nName: who, dtype: float64"
          },
          "metadata": {}
        }
      ]
    },
    {
      "metadata": {
        "trusted": true
      },
      "cell_type": "code",
      "source": "# locate\n\n#food_info.loc[0]\n#food_info[3:6]\n#food_info.iloc[:,0]\n#food_info['Ash_(g)']\n#food_info[['Ash_(g)','Shrt_Desc']]\ntitanic.loc[0:5, 'sex':'parch']\n#titanic.iloc[0:5, 0:3]\n#titanic[:1] #首行\n#titanic[-1:] #末行",
      "execution_count": 80,
      "outputs": [
        {
          "output_type": "execute_result",
          "execution_count": 80,
          "data": {
            "text/html": "<div>\n<style scoped>\n    .dataframe tbody tr th:only-of-type {\n        vertical-align: middle;\n    }\n\n    .dataframe tbody tr th {\n        vertical-align: top;\n    }\n\n    .dataframe thead th {\n        text-align: right;\n    }\n</style>\n<table border=\"1\" class=\"dataframe\">\n  <thead>\n    <tr style=\"text-align: right;\">\n      <th></th>\n      <th>sex</th>\n      <th>age</th>\n      <th>sibsp</th>\n      <th>parch</th>\n    </tr>\n  </thead>\n  <tbody>\n    <tr>\n      <th>0</th>\n      <td>male</td>\n      <td>22.0</td>\n      <td>1</td>\n      <td>0</td>\n    </tr>\n    <tr>\n      <th>1</th>\n      <td>female</td>\n      <td>38.0</td>\n      <td>1</td>\n      <td>0</td>\n    </tr>\n    <tr>\n      <th>2</th>\n      <td>female</td>\n      <td>26.0</td>\n      <td>0</td>\n      <td>0</td>\n    </tr>\n    <tr>\n      <th>3</th>\n      <td>female</td>\n      <td>35.0</td>\n      <td>1</td>\n      <td>0</td>\n    </tr>\n    <tr>\n      <th>4</th>\n      <td>male</td>\n      <td>35.0</td>\n      <td>0</td>\n      <td>0</td>\n    </tr>\n    <tr>\n      <th>5</th>\n      <td>male</td>\n      <td>NaN</td>\n      <td>0</td>\n      <td>0</td>\n    </tr>\n  </tbody>\n</table>\n</div>",
            "text/plain": "      sex   age  sibsp  parch\n0    male  22.0      1      0\n1  female  38.0      1      0\n2  female  26.0      0      0\n3  female  35.0      1      0\n4    male  35.0      0      0\n5    male   NaN      0      0"
          },
          "metadata": {}
        }
      ]
    },
    {
      "metadata": {
        "trusted": true
      },
      "cell_type": "code",
      "source": "# conditinal select features\n\ncol_names = food_info.columns.tolist()\n#print(col_names)\ngram_columns = []\n\nfor c in col_names:\n        if c.endswith('(g)'):\n            gram_columns.append(c)\ngram_df = food_info[gram_columns]\ngram_df.head()",
      "execution_count": 29,
      "outputs": [
        {
          "output_type": "execute_result",
          "execution_count": 29,
          "data": {
            "text/html": "<div>\n<style scoped>\n    .dataframe tbody tr th:only-of-type {\n        vertical-align: middle;\n    }\n\n    .dataframe tbody tr th {\n        vertical-align: top;\n    }\n\n    .dataframe thead th {\n        text-align: right;\n    }\n</style>\n<table border=\"1\" class=\"dataframe\">\n  <thead>\n    <tr style=\"text-align: right;\">\n      <th></th>\n      <th>Water_(g)</th>\n      <th>Protein_(g)</th>\n      <th>Lipid_Tot_(g)</th>\n      <th>Ash_(g)</th>\n      <th>Carbohydrt_(g)</th>\n      <th>Fiber_TD_(g)</th>\n      <th>Sugar_Tot_(g)</th>\n      <th>FA_Sat_(g)</th>\n      <th>FA_Mono_(g)</th>\n      <th>FA_Poly_(g)</th>\n    </tr>\n  </thead>\n  <tbody>\n    <tr>\n      <th>0</th>\n      <td>15.87</td>\n      <td>0.85</td>\n      <td>81.11</td>\n      <td>2.11</td>\n      <td>0.06</td>\n      <td>0.0</td>\n      <td>0.06</td>\n      <td>51.368</td>\n      <td>21.021</td>\n      <td>3.043</td>\n    </tr>\n    <tr>\n      <th>1</th>\n      <td>15.87</td>\n      <td>0.85</td>\n      <td>81.11</td>\n      <td>2.11</td>\n      <td>0.06</td>\n      <td>0.0</td>\n      <td>0.06</td>\n      <td>50.489</td>\n      <td>23.426</td>\n      <td>3.012</td>\n    </tr>\n    <tr>\n      <th>2</th>\n      <td>0.24</td>\n      <td>0.28</td>\n      <td>99.48</td>\n      <td>0.00</td>\n      <td>0.00</td>\n      <td>0.0</td>\n      <td>0.00</td>\n      <td>61.924</td>\n      <td>28.732</td>\n      <td>3.694</td>\n    </tr>\n    <tr>\n      <th>3</th>\n      <td>42.41</td>\n      <td>21.40</td>\n      <td>28.74</td>\n      <td>5.11</td>\n      <td>2.34</td>\n      <td>0.0</td>\n      <td>0.50</td>\n      <td>18.669</td>\n      <td>7.778</td>\n      <td>0.800</td>\n    </tr>\n    <tr>\n      <th>4</th>\n      <td>41.11</td>\n      <td>23.24</td>\n      <td>29.68</td>\n      <td>3.18</td>\n      <td>2.79</td>\n      <td>0.0</td>\n      <td>0.51</td>\n      <td>18.764</td>\n      <td>8.598</td>\n      <td>0.784</td>\n    </tr>\n  </tbody>\n</table>\n</div>",
            "text/plain": "   Water_(g)  Protein_(g)  Lipid_Tot_(g)  Ash_(g)  Carbohydrt_(g)  \\\n0      15.87         0.85          81.11     2.11            0.06   \n1      15.87         0.85          81.11     2.11            0.06   \n2       0.24         0.28          99.48     0.00            0.00   \n3      42.41        21.40          28.74     5.11            2.34   \n4      41.11        23.24          29.68     3.18            2.79   \n\n   Fiber_TD_(g)  Sugar_Tot_(g)  FA_Sat_(g)  FA_Mono_(g)  FA_Poly_(g)  \n0           0.0           0.06      51.368       21.021        3.043  \n1           0.0           0.06      50.489       23.426        3.012  \n2           0.0           0.00      61.924       28.732        3.694  \n3           0.0           0.50      18.669        7.778        0.800  \n4           0.0           0.51      18.764        8.598        0.784  "
          },
          "metadata": {}
        }
      ]
    },
    {
      "metadata": {
        "trusted": true
      },
      "cell_type": "code",
      "source": "# add new column \n\niron_grams = food_info[\"Iron_(mg)\"]/1000\nfood_info[\"iron_(g)\"] = iron_grams\nprint(food_info.shape)",
      "execution_count": 31,
      "outputs": [
        {
          "output_type": "stream",
          "text": "(8618, 37)\n",
          "name": "stdout"
        }
      ]
    },
    {
      "metadata": {
        "trusted": true
      },
      "cell_type": "code",
      "source": "# 移除先前创捷的列\n\ntitanic['last'] = 1\ntitanic\n\ntitanic.drop(['last'], axis=1, inplace=True)\ntitanic\n\n# hide row\ntitanic.drop([2]).head() # hide index==2\n",
      "execution_count": 164,
      "outputs": [
        {
          "output_type": "execute_result",
          "execution_count": 164,
          "data": {
            "text/html": "<div>\n<style scoped>\n    .dataframe tbody tr th:only-of-type {\n        vertical-align: middle;\n    }\n\n    .dataframe tbody tr th {\n        vertical-align: top;\n    }\n\n    .dataframe thead th {\n        text-align: right;\n    }\n</style>\n<table border=\"1\" class=\"dataframe\">\n  <thead>\n    <tr style=\"text-align: right;\">\n      <th></th>\n      <th>survived</th>\n      <th>pclass</th>\n      <th>sex</th>\n      <th>age</th>\n      <th>sibsp</th>\n      <th>parch</th>\n      <th>fare</th>\n      <th>embarked</th>\n      <th>class</th>\n      <th>who</th>\n      <th>adult_male</th>\n      <th>deck</th>\n      <th>embark_town</th>\n      <th>alive</th>\n      <th>alone</th>\n      <th>age_labels</th>\n    </tr>\n  </thead>\n  <tbody>\n    <tr>\n      <th>0</th>\n      <td>0</td>\n      <td>3</td>\n      <td>male</td>\n      <td>22.0</td>\n      <td>1</td>\n      <td>0</td>\n      <td>7.2500</td>\n      <td>S</td>\n      <td>Third</td>\n      <td>man</td>\n      <td>True</td>\n      <td>NaN</td>\n      <td>Southampton</td>\n      <td>no</td>\n      <td>False</td>\n      <td>Adult</td>\n    </tr>\n    <tr>\n      <th>1</th>\n      <td>1</td>\n      <td>1</td>\n      <td>female</td>\n      <td>38.0</td>\n      <td>1</td>\n      <td>0</td>\n      <td>71.2833</td>\n      <td>C</td>\n      <td>First</td>\n      <td>woman</td>\n      <td>False</td>\n      <td>C</td>\n      <td>Cherbourg</td>\n      <td>yes</td>\n      <td>False</td>\n      <td>Adult</td>\n    </tr>\n    <tr>\n      <th>3</th>\n      <td>1</td>\n      <td>1</td>\n      <td>female</td>\n      <td>35.0</td>\n      <td>1</td>\n      <td>0</td>\n      <td>53.1000</td>\n      <td>S</td>\n      <td>First</td>\n      <td>woman</td>\n      <td>False</td>\n      <td>C</td>\n      <td>Southampton</td>\n      <td>yes</td>\n      <td>False</td>\n      <td>Adult</td>\n    </tr>\n    <tr>\n      <th>4</th>\n      <td>0</td>\n      <td>3</td>\n      <td>male</td>\n      <td>35.0</td>\n      <td>0</td>\n      <td>0</td>\n      <td>8.0500</td>\n      <td>S</td>\n      <td>Third</td>\n      <td>man</td>\n      <td>True</td>\n      <td>NaN</td>\n      <td>Southampton</td>\n      <td>no</td>\n      <td>True</td>\n      <td>Adult</td>\n    </tr>\n    <tr>\n      <th>5</th>\n      <td>0</td>\n      <td>3</td>\n      <td>male</td>\n      <td>NaN</td>\n      <td>0</td>\n      <td>0</td>\n      <td>8.4583</td>\n      <td>Q</td>\n      <td>Third</td>\n      <td>man</td>\n      <td>True</td>\n      <td>NaN</td>\n      <td>Queenstown</td>\n      <td>no</td>\n      <td>True</td>\n      <td>Unknown</td>\n    </tr>\n  </tbody>\n</table>\n</div>",
            "text/plain": "   survived  pclass     sex   age  sibsp  parch     fare embarked  class  \\\n0         0       3    male  22.0      1      0   7.2500        S  Third   \n1         1       1  female  38.0      1      0  71.2833        C  First   \n3         1       1  female  35.0      1      0  53.1000        S  First   \n4         0       3    male  35.0      0      0   8.0500        S  Third   \n5         0       3    male   NaN      0      0   8.4583        Q  Third   \n\n     who  adult_male deck  embark_town alive  alone age_labels  \n0    man        True  NaN  Southampton    no  False      Adult  \n1  woman       False    C    Cherbourg   yes  False      Adult  \n3  woman       False    C  Southampton   yes  False      Adult  \n4    man        True  NaN  Southampton    no   True      Adult  \n5    man        True  NaN   Queenstown    no   True    Unknown  "
          },
          "metadata": {}
        }
      ]
    },
    {
      "metadata": {
        "trusted": true
      },
      "cell_type": "code",
      "source": "# max min\n\nfood_info[\"Lipid_Tot_(g)\"].max()",
      "execution_count": 36,
      "outputs": [
        {
          "output_type": "execute_result",
          "execution_count": 36,
          "data": {
            "text/plain": "100.0"
          },
          "metadata": {}
        }
      ]
    },
    {
      "metadata": {
        "trusted": true
      },
      "cell_type": "code",
      "source": "# sort\n\nfood_info.sort_values(by=[\"Sodium_(mg)\",\"Water_(g)\"], inplace=True, ascending=[False,True])\nfood_info[[\"Sodium_(mg)\",\"Water_(g)\"]]\n\n\n# reset_index()\n\nnew_titanic_servical = titanic.sort_values('age')\nnew_titanic_servical.head()\n\n#titanic_reindexed = new_titanic_servical.reset_index(drop=True)\n#titanic_reindexed.head()\n",
      "execution_count": 59,
      "outputs": [
        {
          "output_type": "execute_result",
          "execution_count": 59,
          "data": {
            "text/html": "<div>\n<style scoped>\n    .dataframe tbody tr th:only-of-type {\n        vertical-align: middle;\n    }\n\n    .dataframe tbody tr th {\n        vertical-align: top;\n    }\n\n    .dataframe thead th {\n        text-align: right;\n    }\n</style>\n<table border=\"1\" class=\"dataframe\">\n  <thead>\n    <tr style=\"text-align: right;\">\n      <th></th>\n      <th>survived</th>\n      <th>pclass</th>\n      <th>sex</th>\n      <th>age</th>\n      <th>sibsp</th>\n      <th>parch</th>\n      <th>fare</th>\n      <th>embarked</th>\n      <th>class</th>\n      <th>who</th>\n      <th>adult_male</th>\n      <th>deck</th>\n      <th>embark_town</th>\n      <th>alive</th>\n      <th>alone</th>\n    </tr>\n  </thead>\n  <tbody>\n    <tr>\n      <th>803</th>\n      <td>1</td>\n      <td>3</td>\n      <td>male</td>\n      <td>0.42</td>\n      <td>0</td>\n      <td>1</td>\n      <td>8.5167</td>\n      <td>C</td>\n      <td>Third</td>\n      <td>child</td>\n      <td>False</td>\n      <td>NaN</td>\n      <td>Cherbourg</td>\n      <td>yes</td>\n      <td>False</td>\n    </tr>\n    <tr>\n      <th>755</th>\n      <td>1</td>\n      <td>2</td>\n      <td>male</td>\n      <td>0.67</td>\n      <td>1</td>\n      <td>1</td>\n      <td>14.5000</td>\n      <td>S</td>\n      <td>Second</td>\n      <td>child</td>\n      <td>False</td>\n      <td>NaN</td>\n      <td>Southampton</td>\n      <td>yes</td>\n      <td>False</td>\n    </tr>\n    <tr>\n      <th>644</th>\n      <td>1</td>\n      <td>3</td>\n      <td>female</td>\n      <td>0.75</td>\n      <td>2</td>\n      <td>1</td>\n      <td>19.2583</td>\n      <td>C</td>\n      <td>Third</td>\n      <td>child</td>\n      <td>False</td>\n      <td>NaN</td>\n      <td>Cherbourg</td>\n      <td>yes</td>\n      <td>False</td>\n    </tr>\n    <tr>\n      <th>469</th>\n      <td>1</td>\n      <td>3</td>\n      <td>female</td>\n      <td>0.75</td>\n      <td>2</td>\n      <td>1</td>\n      <td>19.2583</td>\n      <td>C</td>\n      <td>Third</td>\n      <td>child</td>\n      <td>False</td>\n      <td>NaN</td>\n      <td>Cherbourg</td>\n      <td>yes</td>\n      <td>False</td>\n    </tr>\n    <tr>\n      <th>78</th>\n      <td>1</td>\n      <td>2</td>\n      <td>male</td>\n      <td>0.83</td>\n      <td>0</td>\n      <td>2</td>\n      <td>29.0000</td>\n      <td>S</td>\n      <td>Second</td>\n      <td>child</td>\n      <td>False</td>\n      <td>NaN</td>\n      <td>Southampton</td>\n      <td>yes</td>\n      <td>False</td>\n    </tr>\n  </tbody>\n</table>\n</div>",
            "text/plain": "     survived  pclass     sex   age  sibsp  parch     fare embarked   class  \\\n803         1       3    male  0.42      0      1   8.5167        C   Third   \n755         1       2    male  0.67      1      1  14.5000        S  Second   \n644         1       3  female  0.75      2      1  19.2583        C   Third   \n469         1       3  female  0.75      2      1  19.2583        C   Third   \n78          1       2    male  0.83      0      2  29.0000        S  Second   \n\n       who  adult_male deck  embark_town alive  alone  \n803  child       False  NaN    Cherbourg   yes  False  \n755  child       False  NaN  Southampton   yes  False  \n644  child       False  NaN    Cherbourg   yes  False  \n469  child       False  NaN    Cherbourg   yes  False  \n78   child       False  NaN  Southampton   yes  False  "
          },
          "metadata": {}
        }
      ]
    },
    {
      "metadata": {
        "trusted": true
      },
      "cell_type": "code",
      "source": "# count NA\n\nage_null = pd.isnull(titanic[\"age\"])\ntitanic[age_null].shape # 177 missing on Age",
      "execution_count": 33,
      "outputs": [
        {
          "output_type": "execute_result",
          "execution_count": 33,
          "data": {
            "text/plain": "(177, 15)"
          },
          "metadata": {}
        }
      ]
    },
    {
      "metadata": {
        "trusted": true
      },
      "cell_type": "code",
      "source": "# dropna()\n\ndrop_na_columns = titanic.dropna(axis=1) # drop any columns containing NA\nnew_titanic = titanic.dropna(axis=0, subset=['age','sex'])",
      "execution_count": 65,
      "outputs": []
    },
    {
      "metadata": {
        "trusted": true
      },
      "cell_type": "code",
      "source": "# NAs in each column\n\ndef not_null_count(object):\n    column_null = pd.isnull(object)\n    a = object[column_null]\n    return len(a)\n\ncolumn_null_count = titanic.apply(not_null_count)\nprint(column_null_count)",
      "execution_count": 67,
      "outputs": [
        {
          "output_type": "stream",
          "text": "survived         0\npclass           0\nsex              0\nage            177\nsibsp            0\nparch            0\nfare             0\nembarked         2\nclass            0\nwho              0\nadult_male       0\ndeck           688\nembark_town      2\nalive            0\nalone            0\ndtype: int64\n",
          "name": "stdout"
        }
      ]
    },
    {
      "metadata": {
        "trusted": true
      },
      "cell_type": "code",
      "source": "# average age\n\na = titanic[age_null == False][\"age\"]\nsum(a)/len(a)\n\n\n# mean()\ntitanic[age_null == False][\"age\"].mean()\n",
      "execution_count": 36,
      "outputs": [
        {
          "output_type": "execute_result",
          "execution_count": 36,
          "data": {
            "text/plain": "29.69911764705882"
          },
          "metadata": {}
        }
      ]
    },
    {
      "metadata": {
        "trusted": true
      },
      "cell_type": "code",
      "source": "# groupby\n\ntitanic.groupby(['pclass'])['fare'].describe(percentiles=[])\n#titanic.groupby(['pclass'])['survived'].mean()\n\n# groupby with aggregation\n\n#titanic.groupby(['pclass'])['fare'].agg([np.mean, np.std, np.min, np.max])",
      "execution_count": 1,
      "outputs": [
        {
          "output_type": "error",
          "ename": "NameError",
          "evalue": "name 'titanic' is not defined",
          "traceback": [
            "\u001b[0;31m---------------------------------------------------------------------------\u001b[0m",
            "\u001b[0;31mNameError\u001b[0m                                 Traceback (most recent call last)",
            "\u001b[0;32m<ipython-input-1-dcdb1ad35771>\u001b[0m in \u001b[0;36m<module>\u001b[0;34m\u001b[0m\n\u001b[1;32m      1\u001b[0m \u001b[0;31m# groupby\u001b[0m\u001b[0;34m\u001b[0m\u001b[0;34m\u001b[0m\u001b[0m\n\u001b[1;32m      2\u001b[0m \u001b[0;34m\u001b[0m\u001b[0m\n\u001b[0;32m----> 3\u001b[0;31m \u001b[0mtitanic\u001b[0m\u001b[0;34m.\u001b[0m\u001b[0mgroupby\u001b[0m\u001b[0;34m(\u001b[0m\u001b[0;34m[\u001b[0m\u001b[0;34m'pclass'\u001b[0m\u001b[0;34m]\u001b[0m\u001b[0;34m)\u001b[0m\u001b[0;34m[\u001b[0m\u001b[0;34m'fare'\u001b[0m\u001b[0;34m]\u001b[0m\u001b[0;34m.\u001b[0m\u001b[0mdescribe\u001b[0m\u001b[0;34m(\u001b[0m\u001b[0mpercentiles\u001b[0m\u001b[0;34m=\u001b[0m\u001b[0;34m[\u001b[0m\u001b[0;34m]\u001b[0m\u001b[0;34m)\u001b[0m\u001b[0;34m\u001b[0m\u001b[0m\n\u001b[0m\u001b[1;32m      4\u001b[0m \u001b[0;31m#titanic.groupby(['pclass'])['survived'].mean()\u001b[0m\u001b[0;34m\u001b[0m\u001b[0;34m\u001b[0m\u001b[0m\n\u001b[1;32m      5\u001b[0m \u001b[0;34m\u001b[0m\u001b[0m\n",
            "\u001b[0;31mNameError\u001b[0m: name 'titanic' is not defined"
          ]
        }
      ]
    },
    {
      "metadata": {
        "trusted": true
      },
      "cell_type": "code",
      "source": "# pivot_table\n\n# index -- which column to group by\n# values -- column to apply calculation\n# aggunc -- what function\n\npassenger_survival = titanic.pivot_table(index='pclass', values='survived', aggfunc=np.mean)\npassenger_survival\n\n#passenger_age = titanic.pivot_table(index='pclass', values='age', aggfunc=np.mean)\n#passenger_age\n\n#port_stats = titanic.pivot_table(index='embarked', values=['fare','survived'], aggfunc=np.sum)\n#port_stats\n",
      "execution_count": 64,
      "outputs": [
        {
          "output_type": "execute_result",
          "execution_count": 64,
          "data": {
            "text/html": "<div>\n<style scoped>\n    .dataframe tbody tr th:only-of-type {\n        vertical-align: middle;\n    }\n\n    .dataframe tbody tr th {\n        vertical-align: top;\n    }\n\n    .dataframe thead th {\n        text-align: right;\n    }\n</style>\n<table border=\"1\" class=\"dataframe\">\n  <thead>\n    <tr style=\"text-align: right;\">\n      <th></th>\n      <th>survived</th>\n    </tr>\n    <tr>\n      <th>pclass</th>\n      <th></th>\n    </tr>\n  </thead>\n  <tbody>\n    <tr>\n      <th>1</th>\n      <td>0.629630</td>\n    </tr>\n    <tr>\n      <th>2</th>\n      <td>0.472826</td>\n    </tr>\n    <tr>\n      <th>3</th>\n      <td>0.242363</td>\n    </tr>\n  </tbody>\n</table>\n</div>",
            "text/plain": "        survived\npclass          \n1       0.629630\n2       0.472826\n3       0.242363"
          },
          "metadata": {}
        }
      ]
    },
    {
      "metadata": {
        "trusted": true
      },
      "cell_type": "code",
      "source": "# apply()\n\ndef hundredth_row(column):\n    # Extract the hundredth item\n    hundredth_item = column.loc[99]\n    return hundredth_item\n\na = titanic.apply(hundredth_row)\n#print(a)\n\ntitanic.max()\n#list = titanic.columns[]\nlist = titanic.columns[titanic.dtypes == 'int64']\ntitanic[list].apply(np.max)",
      "execution_count": 116,
      "outputs": [
        {
          "output_type": "execute_result",
          "execution_count": 116,
          "data": {
            "text/plain": "survived    1\npclass      3\nsibsp       8\nparch       6\ndtype: int64"
          },
          "metadata": {}
        }
      ]
    },
    {
      "metadata": {
        "trusted": true
      },
      "cell_type": "code",
      "source": "# apply() & lambda\n#titanic[titanic['embark_town'].apply(lambda embark_town: embark_town[0] == 'S')].head()\ntitanic[titanic['sex'].apply(lambda sex: sex[0] == 'm')].head() # only male\n",
      "execution_count": 133,
      "outputs": [
        {
          "output_type": "execute_result",
          "execution_count": 133,
          "data": {
            "text/html": "<div>\n<style scoped>\n    .dataframe tbody tr th:only-of-type {\n        vertical-align: middle;\n    }\n\n    .dataframe tbody tr th {\n        vertical-align: top;\n    }\n\n    .dataframe thead th {\n        text-align: right;\n    }\n</style>\n<table border=\"1\" class=\"dataframe\">\n  <thead>\n    <tr style=\"text-align: right;\">\n      <th></th>\n      <th>survived</th>\n      <th>pclass</th>\n      <th>sex</th>\n      <th>age</th>\n      <th>sibsp</th>\n      <th>parch</th>\n      <th>fare</th>\n      <th>embarked</th>\n      <th>class</th>\n      <th>who</th>\n      <th>adult_male</th>\n      <th>deck</th>\n      <th>embark_town</th>\n      <th>alive</th>\n      <th>alone</th>\n      <th>age_labels</th>\n    </tr>\n  </thead>\n  <tbody>\n    <tr>\n      <th>0</th>\n      <td>0</td>\n      <td>3</td>\n      <td>male</td>\n      <td>22.0</td>\n      <td>1</td>\n      <td>0</td>\n      <td>7.2500</td>\n      <td>S</td>\n      <td>Third</td>\n      <td>man</td>\n      <td>True</td>\n      <td>NaN</td>\n      <td>Southampton</td>\n      <td>no</td>\n      <td>False</td>\n      <td>Adult</td>\n    </tr>\n    <tr>\n      <th>4</th>\n      <td>0</td>\n      <td>3</td>\n      <td>male</td>\n      <td>35.0</td>\n      <td>0</td>\n      <td>0</td>\n      <td>8.0500</td>\n      <td>S</td>\n      <td>Third</td>\n      <td>man</td>\n      <td>True</td>\n      <td>NaN</td>\n      <td>Southampton</td>\n      <td>no</td>\n      <td>True</td>\n      <td>Adult</td>\n    </tr>\n    <tr>\n      <th>5</th>\n      <td>0</td>\n      <td>3</td>\n      <td>male</td>\n      <td>NaN</td>\n      <td>0</td>\n      <td>0</td>\n      <td>8.4583</td>\n      <td>Q</td>\n      <td>Third</td>\n      <td>man</td>\n      <td>True</td>\n      <td>NaN</td>\n      <td>Queenstown</td>\n      <td>no</td>\n      <td>True</td>\n      <td>Unknown</td>\n    </tr>\n    <tr>\n      <th>6</th>\n      <td>0</td>\n      <td>1</td>\n      <td>male</td>\n      <td>54.0</td>\n      <td>0</td>\n      <td>0</td>\n      <td>51.8625</td>\n      <td>S</td>\n      <td>First</td>\n      <td>man</td>\n      <td>True</td>\n      <td>E</td>\n      <td>Southampton</td>\n      <td>no</td>\n      <td>True</td>\n      <td>Adult</td>\n    </tr>\n    <tr>\n      <th>7</th>\n      <td>0</td>\n      <td>3</td>\n      <td>male</td>\n      <td>2.0</td>\n      <td>3</td>\n      <td>1</td>\n      <td>21.0750</td>\n      <td>S</td>\n      <td>Third</td>\n      <td>child</td>\n      <td>False</td>\n      <td>NaN</td>\n      <td>Southampton</td>\n      <td>no</td>\n      <td>False</td>\n      <td>minor</td>\n    </tr>\n  </tbody>\n</table>\n</div>",
            "text/plain": "   survived  pclass   sex   age  sibsp  parch     fare embarked  class    who  \\\n0         0       3  male  22.0      1      0   7.2500        S  Third    man   \n4         0       3  male  35.0      0      0   8.0500        S  Third    man   \n5         0       3  male   NaN      0      0   8.4583        Q  Third    man   \n6         0       1  male  54.0      0      0  51.8625        S  First    man   \n7         0       3  male   2.0      3      1  21.0750        S  Third  child   \n\n   adult_male deck  embark_town alive  alone age_labels  \n0        True  NaN  Southampton    no  False      Adult  \n4        True  NaN  Southampton    no   True      Adult  \n5        True  NaN   Queenstown    no   True    Unknown  \n6        True    E  Southampton    no   True      Adult  \n7       False  NaN  Southampton    no  False      minor  "
          },
          "metadata": {}
        }
      ]
    },
    {
      "metadata": {
        "trusted": true
      },
      "cell_type": "code",
      "source": "# map\n\nd = {'no': False, 'yes': True}\ntitanic['alive'] = titanic['alive'].map(d)\ntitanic.head()",
      "execution_count": 136,
      "outputs": [
        {
          "output_type": "execute_result",
          "execution_count": 136,
          "data": {
            "text/html": "<div>\n<style scoped>\n    .dataframe tbody tr th:only-of-type {\n        vertical-align: middle;\n    }\n\n    .dataframe tbody tr th {\n        vertical-align: top;\n    }\n\n    .dataframe thead th {\n        text-align: right;\n    }\n</style>\n<table border=\"1\" class=\"dataframe\">\n  <thead>\n    <tr style=\"text-align: right;\">\n      <th></th>\n      <th>survived</th>\n      <th>pclass</th>\n      <th>sex</th>\n      <th>age</th>\n      <th>sibsp</th>\n      <th>parch</th>\n      <th>fare</th>\n      <th>embarked</th>\n      <th>class</th>\n      <th>who</th>\n      <th>adult_male</th>\n      <th>deck</th>\n      <th>embark_town</th>\n      <th>alive</th>\n      <th>alone</th>\n      <th>age_labels</th>\n    </tr>\n  </thead>\n  <tbody>\n    <tr>\n      <th>0</th>\n      <td>0</td>\n      <td>3</td>\n      <td>male</td>\n      <td>22.0</td>\n      <td>1</td>\n      <td>0</td>\n      <td>7.2500</td>\n      <td>S</td>\n      <td>Third</td>\n      <td>man</td>\n      <td>True</td>\n      <td>NaN</td>\n      <td>Southampton</td>\n      <td>False</td>\n      <td>False</td>\n      <td>Adult</td>\n    </tr>\n    <tr>\n      <th>1</th>\n      <td>1</td>\n      <td>1</td>\n      <td>female</td>\n      <td>38.0</td>\n      <td>1</td>\n      <td>0</td>\n      <td>71.2833</td>\n      <td>C</td>\n      <td>First</td>\n      <td>woman</td>\n      <td>False</td>\n      <td>C</td>\n      <td>Cherbourg</td>\n      <td>True</td>\n      <td>False</td>\n      <td>Adult</td>\n    </tr>\n    <tr>\n      <th>2</th>\n      <td>1</td>\n      <td>3</td>\n      <td>female</td>\n      <td>26.0</td>\n      <td>0</td>\n      <td>0</td>\n      <td>7.9250</td>\n      <td>S</td>\n      <td>Third</td>\n      <td>woman</td>\n      <td>False</td>\n      <td>NaN</td>\n      <td>Southampton</td>\n      <td>True</td>\n      <td>True</td>\n      <td>Adult</td>\n    </tr>\n    <tr>\n      <th>3</th>\n      <td>1</td>\n      <td>1</td>\n      <td>female</td>\n      <td>35.0</td>\n      <td>1</td>\n      <td>0</td>\n      <td>53.1000</td>\n      <td>S</td>\n      <td>First</td>\n      <td>woman</td>\n      <td>False</td>\n      <td>C</td>\n      <td>Southampton</td>\n      <td>True</td>\n      <td>False</td>\n      <td>Adult</td>\n    </tr>\n    <tr>\n      <th>4</th>\n      <td>0</td>\n      <td>3</td>\n      <td>male</td>\n      <td>35.0</td>\n      <td>0</td>\n      <td>0</td>\n      <td>8.0500</td>\n      <td>S</td>\n      <td>Third</td>\n      <td>man</td>\n      <td>True</td>\n      <td>NaN</td>\n      <td>Southampton</td>\n      <td>False</td>\n      <td>True</td>\n      <td>Adult</td>\n    </tr>\n  </tbody>\n</table>\n</div>",
            "text/plain": "   survived  pclass     sex   age  sibsp  parch     fare embarked  class  \\\n0         0       3    male  22.0      1      0   7.2500        S  Third   \n1         1       1  female  38.0      1      0  71.2833        C  First   \n2         1       3  female  26.0      0      0   7.9250        S  Third   \n3         1       1  female  35.0      1      0  53.1000        S  First   \n4         0       3    male  35.0      0      0   8.0500        S  Third   \n\n     who  adult_male deck  embark_town  alive  alone age_labels  \n0    man        True  NaN  Southampton  False  False      Adult  \n1  woman       False    C    Cherbourg   True  False      Adult  \n2  woman       False  NaN  Southampton   True   True      Adult  \n3  woman       False    C  Southampton   True  False      Adult  \n4    man        True  NaN  Southampton  False   True      Adult  "
          },
          "metadata": {}
        }
      ]
    },
    {
      "metadata": {
        "trusted": true
      },
      "cell_type": "code",
      "source": "# replace \n\ne = {False: 'no', True: 'yes'}\ntitanic = titanic.replace({'alive': e})\ntitanic.head()",
      "execution_count": 138,
      "outputs": [
        {
          "output_type": "execute_result",
          "execution_count": 138,
          "data": {
            "text/html": "<div>\n<style scoped>\n    .dataframe tbody tr th:only-of-type {\n        vertical-align: middle;\n    }\n\n    .dataframe tbody tr th {\n        vertical-align: top;\n    }\n\n    .dataframe thead th {\n        text-align: right;\n    }\n</style>\n<table border=\"1\" class=\"dataframe\">\n  <thead>\n    <tr style=\"text-align: right;\">\n      <th></th>\n      <th>survived</th>\n      <th>pclass</th>\n      <th>sex</th>\n      <th>age</th>\n      <th>sibsp</th>\n      <th>parch</th>\n      <th>fare</th>\n      <th>embarked</th>\n      <th>class</th>\n      <th>who</th>\n      <th>adult_male</th>\n      <th>deck</th>\n      <th>embark_town</th>\n      <th>alive</th>\n      <th>alone</th>\n      <th>age_labels</th>\n    </tr>\n  </thead>\n  <tbody>\n    <tr>\n      <th>0</th>\n      <td>0</td>\n      <td>3</td>\n      <td>male</td>\n      <td>22.0</td>\n      <td>1</td>\n      <td>0</td>\n      <td>7.2500</td>\n      <td>S</td>\n      <td>Third</td>\n      <td>man</td>\n      <td>True</td>\n      <td>NaN</td>\n      <td>Southampton</td>\n      <td>no</td>\n      <td>False</td>\n      <td>Adult</td>\n    </tr>\n    <tr>\n      <th>1</th>\n      <td>1</td>\n      <td>1</td>\n      <td>female</td>\n      <td>38.0</td>\n      <td>1</td>\n      <td>0</td>\n      <td>71.2833</td>\n      <td>C</td>\n      <td>First</td>\n      <td>woman</td>\n      <td>False</td>\n      <td>C</td>\n      <td>Cherbourg</td>\n      <td>yes</td>\n      <td>False</td>\n      <td>Adult</td>\n    </tr>\n    <tr>\n      <th>2</th>\n      <td>1</td>\n      <td>3</td>\n      <td>female</td>\n      <td>26.0</td>\n      <td>0</td>\n      <td>0</td>\n      <td>7.9250</td>\n      <td>S</td>\n      <td>Third</td>\n      <td>woman</td>\n      <td>False</td>\n      <td>NaN</td>\n      <td>Southampton</td>\n      <td>yes</td>\n      <td>True</td>\n      <td>Adult</td>\n    </tr>\n    <tr>\n      <th>3</th>\n      <td>1</td>\n      <td>1</td>\n      <td>female</td>\n      <td>35.0</td>\n      <td>1</td>\n      <td>0</td>\n      <td>53.1000</td>\n      <td>S</td>\n      <td>First</td>\n      <td>woman</td>\n      <td>False</td>\n      <td>C</td>\n      <td>Southampton</td>\n      <td>yes</td>\n      <td>False</td>\n      <td>Adult</td>\n    </tr>\n    <tr>\n      <th>4</th>\n      <td>0</td>\n      <td>3</td>\n      <td>male</td>\n      <td>35.0</td>\n      <td>0</td>\n      <td>0</td>\n      <td>8.0500</td>\n      <td>S</td>\n      <td>Third</td>\n      <td>man</td>\n      <td>True</td>\n      <td>NaN</td>\n      <td>Southampton</td>\n      <td>no</td>\n      <td>True</td>\n      <td>Adult</td>\n    </tr>\n  </tbody>\n</table>\n</div>",
            "text/plain": "   survived  pclass     sex   age  sibsp  parch     fare embarked  class  \\\n0         0       3    male  22.0      1      0   7.2500        S  Third   \n1         1       1  female  38.0      1      0  71.2833        C  First   \n2         1       3  female  26.0      0      0   7.9250        S  Third   \n3         1       1  female  35.0      1      0  53.1000        S  First   \n4         0       3    male  35.0      0      0   8.0500        S  Third   \n\n     who  adult_male deck  embark_town alive  alone age_labels  \n0    man        True  NaN  Southampton    no  False      Adult  \n1  woman       False    C    Cherbourg   yes  False      Adult  \n2  woman       False  NaN  Southampton   yes   True      Adult  \n3  woman       False    C  Southampton   yes  False      Adult  \n4    man        True  NaN  Southampton    no   True      Adult  "
          },
          "metadata": {}
        }
      ]
    },
    {
      "metadata": {
        "trusted": true
      },
      "cell_type": "code",
      "source": "# continuous to discrete\n\ndef is_minor(row):\n    if row['age']<18:\n        return True\n    else:\n        return False\n\nminors = titanic.apply(is_minor, axis=1)\n#print(minors)\n    \ndef generate_age_label(row):\n    age = row['age']\n    if pd.isnull(age):\n        return 'Unknown'\n    elif age<18:\n        return 'minor'\n    else:    \n        return 'Adult'\n\nage_labels = titanic.apply(generate_age_label, axis=1)\nprint(age_labels)\n\ntitanic['age_labels'] = age_labels\nage_group_survival = titanic.pivot_table(index='age_labels', values='survived')\nprint(age_group_survival)",
      "execution_count": 72,
      "outputs": [
        {
          "output_type": "stream",
          "text": "0        Adult\n1        Adult\n2        Adult\n3        Adult\n4        Adult\n5      Unknown\n6        Adult\n7        minor\n8        Adult\n9        minor\n10       minor\n11       Adult\n12       Adult\n13       Adult\n14       minor\n15       Adult\n16       minor\n17     Unknown\n18       Adult\n19     Unknown\n20       Adult\n21       Adult\n22       minor\n23       Adult\n24       minor\n25       Adult\n26     Unknown\n27       Adult\n28     Unknown\n29     Unknown\n        ...   \n861      Adult\n862      Adult\n863    Unknown\n864      Adult\n865      Adult\n866      Adult\n867      Adult\n868    Unknown\n869      minor\n870      Adult\n871      Adult\n872      Adult\n873      Adult\n874      Adult\n875      minor\n876      Adult\n877      Adult\n878    Unknown\n879      Adult\n880      Adult\n881      Adult\n882      Adult\n883      Adult\n884      Adult\n885      Adult\n886      Adult\n887      Adult\n888    Unknown\n889      Adult\n890      Adult\nLength: 891, dtype: object\n            survived\nage_labels          \nAdult       0.381032\nUnknown     0.293785\nminor       0.539823\n",
          "name": "stdout"
        }
      ]
    },
    {
      "metadata": {},
      "cell_type": "markdown",
      "source": "# Series"
    },
    {
      "metadata": {
        "trusted": true
      },
      "cell_type": "code",
      "source": "from pandas import Series",
      "execution_count": 9,
      "outputs": []
    },
    {
      "metadata": {
        "trusted": true
      },
      "cell_type": "code",
      "source": "fandango = pd.read_csv('fandango_score_comparison.csv')\nseries_film = fandango['FILM']\n\nseries_rt = fandango['RottenTomatoes']",
      "execution_count": 12,
      "outputs": []
    },
    {
      "metadata": {
        "trusted": true
      },
      "cell_type": "code",
      "source": "print(type(series_film))\n#print(series_film[0:5])\n#print(series_film.head())",
      "execution_count": 8,
      "outputs": [
        {
          "output_type": "stream",
          "text": "<class 'pandas.core.series.Series'>\n",
          "name": "stdout"
        }
      ]
    },
    {
      "metadata": {
        "trusted": true
      },
      "cell_type": "code",
      "source": "film_names = series_film.values\nprint(type(film_names))\n\nrt_score = series_rt.values\nseries_custom = Series(rt_score, index=film_names)\n#series_custom[ ['Minions (2015)', 'Laviathan (2014)'] ]\nseries_custom[5:10]",
      "execution_count": 15,
      "outputs": [
        {
          "output_type": "stream",
          "text": "<class 'numpy.ndarray'>\n",
          "name": "stdout"
        },
        {
          "output_type": "execute_result",
          "execution_count": 15,
          "data": {
            "text/plain": "The Water Diviner (2015)        63\nIrrational Man (2015)           42\nTop Five (2014)                 86\nShaun the Sheep Movie (2015)    99\nLove & Mercy (2015)             89\ndtype: int64"
          },
          "metadata": {}
        }
      ]
    },
    {
      "metadata": {
        "trusted": true
      },
      "cell_type": "code",
      "source": "# edited version \n\nseries_custom = Series(fandango['RottenTomatoes'].values,fandango['FILM'].values)\nprint(series_custom[5:10])",
      "execution_count": 48,
      "outputs": [
        {
          "output_type": "stream",
          "text": "The Water Diviner (2015)        63\nIrrational Man (2015)           42\nTop Five (2014)                 86\nShaun the Sheep Movie (2015)    99\nLove & Mercy (2015)             89\ndtype: int64\n",
          "name": "stdout"
        }
      ]
    },
    {
      "metadata": {
        "trusted": true
      },
      "cell_type": "code",
      "source": "# sort\n\n#series_custom.sort_index()\n#series_custom.sort_values() \n",
      "execution_count": 39,
      "outputs": [
        {
          "output_type": "execute_result",
          "execution_count": 39,
          "data": {
            "text/plain": "Paul Blart: Mall Cop 2 (2015)                    5\nHitman: Agent 47 (2015)                          7\nHot Pursuit (2015)                               8\nFantastic Four (2015)                            9\nTaken 3 (2015)                                   9\nThe Boy Next Door (2015)                        10\nThe Loft (2015)                                 11\nUnfinished Business (2015)                      11\nMortdecai (2015)                                12\nSeventh Son (2015)                              12\nThe Vatican Tapes (2015)                        13\nSinister 2 (2015)                               13\nThe Lazarus Effect (2015)                       14\nHot Tub Time Machine 2 (2015)                   14\nThe Gallows (2015)                              16\nThe Gunman (2015)                               17\nPixels (2015)                                   17\nStrange Magic (2015)                            17\nDo You Believe? (2015)                          18\nSerena (2015)                                   18\nAloha (2015)                                    19\nSelf/less (2015)                                20\nLittle Boy (2015)                               20\nThe Woman In Black 2 Angel of Death (2015)      22\nFifty Shades of Grey (2015)                     25\nTerminator Genisys (2015)                       26\nChild 44 (2015)                                 26\nDark Places (2015)                              26\nJupiter Ascending (2015)                        26\nAnnie (2014)                                    27\n                                              ... \nEx Machina (2015)                               92\nMission: Impossible â€“ Rogue Nation (2015)     92\nSpy (2015)                                      93\nThe Gift (2015)                                 93\nThe Wrecking Crew (2015)                        93\nMonkey Kingdom (2015)                           94\nI'll See You In My Dreams (2015)                94\nTangerine (2015)                                95\nThe Diary of a Teenage Girl (2015)              95\nWild Tales (2014)                               96\nIt Follows (2015)                               96\nRed Army (2015)                                 96\nThe Salt of the Earth (2015)                    96\nWhat We Do in the Shadows (2015)                96\n'71 (2015)                                      97\nAbout Elly (2015)                               97\nTwo Days, One Night (2014)                      97\nAmy (2015)                                      97\nMad Max: Fury Road (2015)                       97\nInside Out (2015)                               98\nPaddington (2015)                               98\nMr. Turner (2014)                               98\nTimbuktu (2015)                                 99\nShaun the Sheep Movie (2015)                    99\nLeviathan (2014)                                99\nSong of the Sea (2014)                          99\nPhoenix (2015)                                  99\nSelma (2014)                                    99\nSeymour: An Introduction (2015)                100\nGett: The Trial of Viviane Amsalem (2015)      100\nLength: 146, dtype: int64"
          },
          "metadata": {}
        }
      ]
    },
    {
      "metadata": {
        "trusted": true
      },
      "cell_type": "code",
      "source": "# add\n\na = series_custom[5:10]\nnp.add(a,a)",
      "execution_count": 47,
      "outputs": [
        {
          "output_type": "execute_result",
          "execution_count": 47,
          "data": {
            "text/plain": "The Water Diviner (2015)        126\nIrrational Man (2015)            84\nTop Five (2014)                 172\nShaun the Sheep Movie (2015)    198\nLove & Mercy (2015)             178\ndtype: int64"
          },
          "metadata": {}
        }
      ]
    },
    {
      "metadata": {
        "trusted": true
      },
      "cell_type": "code",
      "source": "# average score from two medias\n\ns1 = Series(fandango['RottenTomatoes'].values, index=fandango['FILM'])\ns2 = Series(fandango['RottenTomatoes_User'].values, index=fandango['FILM'])\ns_mean = (s1+s2)/2\nprint(s_mean[5:10])",
      "execution_count": 46,
      "outputs": [
        {
          "output_type": "stream",
          "text": "FILM\nThe Water Diviner (2015)        62.5\nIrrational Man (2015)           47.5\nTop Five (2014)                 75.0\nShaun the Sheep Movie (2015)    90.5\nLove & Mercy (2015)             88.0\ndtype: float64\n",
          "name": "stdout"
        }
      ]
    },
    {
      "metadata": {
        "trusted": true
      },
      "cell_type": "code",
      "source": "# datafrane set index\n\nfandango_films = fandango.set_index('FILM', drop=False)\nfandango_films[5:10]",
      "execution_count": 57,
      "outputs": [
        {
          "output_type": "execute_result",
          "execution_count": 57,
          "data": {
            "text/html": "<div>\n<style scoped>\n    .dataframe tbody tr th:only-of-type {\n        vertical-align: middle;\n    }\n\n    .dataframe tbody tr th {\n        vertical-align: top;\n    }\n\n    .dataframe thead th {\n        text-align: right;\n    }\n</style>\n<table border=\"1\" class=\"dataframe\">\n  <thead>\n    <tr style=\"text-align: right;\">\n      <th></th>\n      <th>FILM</th>\n      <th>RottenTomatoes</th>\n      <th>RottenTomatoes_User</th>\n      <th>Metacritic</th>\n      <th>Metacritic_User</th>\n      <th>IMDB</th>\n      <th>Fandango_Stars</th>\n      <th>Fandango_Ratingvalue</th>\n      <th>RT_norm</th>\n      <th>RT_user_norm</th>\n      <th>...</th>\n      <th>IMDB_norm</th>\n      <th>RT_norm_round</th>\n      <th>RT_user_norm_round</th>\n      <th>Metacritic_norm_round</th>\n      <th>Metacritic_user_norm_round</th>\n      <th>IMDB_norm_round</th>\n      <th>Metacritic_user_vote_count</th>\n      <th>IMDB_user_vote_count</th>\n      <th>Fandango_votes</th>\n      <th>Fandango_Difference</th>\n    </tr>\n    <tr>\n      <th>FILM</th>\n      <th></th>\n      <th></th>\n      <th></th>\n      <th></th>\n      <th></th>\n      <th></th>\n      <th></th>\n      <th></th>\n      <th></th>\n      <th></th>\n      <th></th>\n      <th></th>\n      <th></th>\n      <th></th>\n      <th></th>\n      <th></th>\n      <th></th>\n      <th></th>\n      <th></th>\n      <th></th>\n      <th></th>\n    </tr>\n  </thead>\n  <tbody>\n    <tr>\n      <th>The Water Diviner (2015)</th>\n      <td>The Water Diviner (2015)</td>\n      <td>63</td>\n      <td>62</td>\n      <td>50</td>\n      <td>6.8</td>\n      <td>7.2</td>\n      <td>4.5</td>\n      <td>4.0</td>\n      <td>3.15</td>\n      <td>3.10</td>\n      <td>...</td>\n      <td>3.60</td>\n      <td>3.0</td>\n      <td>3.0</td>\n      <td>2.5</td>\n      <td>3.5</td>\n      <td>3.5</td>\n      <td>34</td>\n      <td>39373</td>\n      <td>397</td>\n      <td>0.5</td>\n    </tr>\n    <tr>\n      <th>Irrational Man (2015)</th>\n      <td>Irrational Man (2015)</td>\n      <td>42</td>\n      <td>53</td>\n      <td>53</td>\n      <td>7.6</td>\n      <td>6.9</td>\n      <td>4.0</td>\n      <td>3.5</td>\n      <td>2.10</td>\n      <td>2.65</td>\n      <td>...</td>\n      <td>3.45</td>\n      <td>2.0</td>\n      <td>2.5</td>\n      <td>2.5</td>\n      <td>4.0</td>\n      <td>3.5</td>\n      <td>17</td>\n      <td>2680</td>\n      <td>252</td>\n      <td>0.5</td>\n    </tr>\n    <tr>\n      <th>Top Five (2014)</th>\n      <td>Top Five (2014)</td>\n      <td>86</td>\n      <td>64</td>\n      <td>81</td>\n      <td>6.8</td>\n      <td>6.5</td>\n      <td>4.0</td>\n      <td>3.5</td>\n      <td>4.30</td>\n      <td>3.20</td>\n      <td>...</td>\n      <td>3.25</td>\n      <td>4.5</td>\n      <td>3.0</td>\n      <td>4.0</td>\n      <td>3.5</td>\n      <td>3.5</td>\n      <td>124</td>\n      <td>16876</td>\n      <td>3223</td>\n      <td>0.5</td>\n    </tr>\n    <tr>\n      <th>Shaun the Sheep Movie (2015)</th>\n      <td>Shaun the Sheep Movie (2015)</td>\n      <td>99</td>\n      <td>82</td>\n      <td>81</td>\n      <td>8.8</td>\n      <td>7.4</td>\n      <td>4.5</td>\n      <td>4.0</td>\n      <td>4.95</td>\n      <td>4.10</td>\n      <td>...</td>\n      <td>3.70</td>\n      <td>5.0</td>\n      <td>4.0</td>\n      <td>4.0</td>\n      <td>4.5</td>\n      <td>3.5</td>\n      <td>62</td>\n      <td>12227</td>\n      <td>896</td>\n      <td>0.5</td>\n    </tr>\n    <tr>\n      <th>Love &amp; Mercy (2015)</th>\n      <td>Love &amp; Mercy (2015)</td>\n      <td>89</td>\n      <td>87</td>\n      <td>80</td>\n      <td>8.5</td>\n      <td>7.8</td>\n      <td>4.5</td>\n      <td>4.0</td>\n      <td>4.45</td>\n      <td>4.35</td>\n      <td>...</td>\n      <td>3.90</td>\n      <td>4.5</td>\n      <td>4.5</td>\n      <td>4.0</td>\n      <td>4.5</td>\n      <td>4.0</td>\n      <td>54</td>\n      <td>5367</td>\n      <td>864</td>\n      <td>0.5</td>\n    </tr>\n  </tbody>\n</table>\n<p>5 rows × 22 columns</p>\n</div>",
            "text/plain": "                                                      FILM  RottenTomatoes  \\\nFILM                                                                         \nThe Water Diviner (2015)          The Water Diviner (2015)              63   \nIrrational Man (2015)                Irrational Man (2015)              42   \nTop Five (2014)                            Top Five (2014)              86   \nShaun the Sheep Movie (2015)  Shaun the Sheep Movie (2015)              99   \nLove & Mercy (2015)                    Love & Mercy (2015)              89   \n\n                              RottenTomatoes_User  Metacritic  \\\nFILM                                                            \nThe Water Diviner (2015)                       62          50   \nIrrational Man (2015)                          53          53   \nTop Five (2014)                                64          81   \nShaun the Sheep Movie (2015)                   82          81   \nLove & Mercy (2015)                            87          80   \n\n                              Metacritic_User  IMDB  Fandango_Stars  \\\nFILM                                                                  \nThe Water Diviner (2015)                  6.8   7.2             4.5   \nIrrational Man (2015)                     7.6   6.9             4.0   \nTop Five (2014)                           6.8   6.5             4.0   \nShaun the Sheep Movie (2015)              8.8   7.4             4.5   \nLove & Mercy (2015)                       8.5   7.8             4.5   \n\n                              Fandango_Ratingvalue  RT_norm  RT_user_norm  \\\nFILM                                                                        \nThe Water Diviner (2015)                       4.0     3.15          3.10   \nIrrational Man (2015)                          3.5     2.10          2.65   \nTop Five (2014)                                3.5     4.30          3.20   \nShaun the Sheep Movie (2015)                   4.0     4.95          4.10   \nLove & Mercy (2015)                            4.0     4.45          4.35   \n\n                                     ...           IMDB_norm  RT_norm_round  \\\nFILM                                 ...                                      \nThe Water Diviner (2015)             ...                3.60            3.0   \nIrrational Man (2015)                ...                3.45            2.0   \nTop Five (2014)                      ...                3.25            4.5   \nShaun the Sheep Movie (2015)         ...                3.70            5.0   \nLove & Mercy (2015)                  ...                3.90            4.5   \n\n                              RT_user_norm_round  Metacritic_norm_round  \\\nFILM                                                                      \nThe Water Diviner (2015)                     3.0                    2.5   \nIrrational Man (2015)                        2.5                    2.5   \nTop Five (2014)                              3.0                    4.0   \nShaun the Sheep Movie (2015)                 4.0                    4.0   \nLove & Mercy (2015)                          4.5                    4.0   \n\n                              Metacritic_user_norm_round  IMDB_norm_round  \\\nFILM                                                                        \nThe Water Diviner (2015)                             3.5              3.5   \nIrrational Man (2015)                                4.0              3.5   \nTop Five (2014)                                      3.5              3.5   \nShaun the Sheep Movie (2015)                         4.5              3.5   \nLove & Mercy (2015)                                  4.5              4.0   \n\n                              Metacritic_user_vote_count  \\\nFILM                                                       \nThe Water Diviner (2015)                              34   \nIrrational Man (2015)                                 17   \nTop Five (2014)                                      124   \nShaun the Sheep Movie (2015)                          62   \nLove & Mercy (2015)                                   54   \n\n                              IMDB_user_vote_count  Fandango_votes  \\\nFILM                                                                 \nThe Water Diviner (2015)                     39373             397   \nIrrational Man (2015)                         2680             252   \nTop Five (2014)                              16876            3223   \nShaun the Sheep Movie (2015)                 12227             896   \nLove & Mercy (2015)                           5367             864   \n\n                              Fandango_Difference  \nFILM                                               \nThe Water Diviner (2015)                      0.5  \nIrrational Man (2015)                         0.5  \nTop Five (2014)                               0.5  \nShaun the Sheep Movie (2015)                  0.5  \nLove & Mercy (2015)                           0.5  \n\n[5 rows x 22 columns]"
          },
          "metadata": {}
        }
      ]
    }
  ],
  "metadata": {
    "kernelspec": {
      "name": "python36",
      "display_name": "Python 3.6",
      "language": "python"
    },
    "language_info": {
      "mimetype": "text/x-python",
      "nbconvert_exporter": "python",
      "name": "python",
      "pygments_lexer": "ipython3",
      "version": "3.6.6",
      "file_extension": ".py",
      "codemirror_mode": {
        "version": 3,
        "name": "ipython"
      }
    }
  },
  "nbformat": 4,
  "nbformat_minor": 1
}