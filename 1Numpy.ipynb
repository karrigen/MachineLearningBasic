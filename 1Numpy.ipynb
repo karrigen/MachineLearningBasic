{
  "cells": [
    {
      "metadata": {
        "trusted": true
      },
      "cell_type": "code",
      "source": "import  numpy as np",
      "execution_count": 82,
      "outputs": []
    },
    {
      "metadata": {
        "trusted": true
      },
      "cell_type": "code",
      "source": "world_alcohol = numpy.genfromtxt('world_alcohol.txt', delimiter=',', dtype=str, skip_header=1)\nprint(type(world_alcohol))\nworld_alcohol",
      "execution_count": 83,
      "outputs": [
        {
          "output_type": "stream",
          "text": "<class 'numpy.ndarray'>\n",
          "name": "stdout"
        },
        {
          "output_type": "execute_result",
          "execution_count": 83,
          "data": {
            "text/plain": "array([['1986', 'Western Pacific', 'Viet Nam', 'Wine', '0'],\n       ['1986', 'Americas', 'Uruguay', 'Other', '0.5'],\n       ['1985', 'Africa', \"Cte d'Ivoire\", 'Wine', '1.62'],\n       ...,\n       ['1987', 'Africa', 'Malawi', 'Other', '0.75'],\n       ['1989', 'Americas', 'Bahamas', 'Wine', '1.5'],\n       ['1985', 'Africa', 'Malawi', 'Spirits', '0.31']], dtype='<U52')"
          },
          "metadata": {}
        }
      ]
    },
    {
      "metadata": {
        "trusted": true
      },
      "cell_type": "code",
      "source": "# vector or matrix\n\nvector = numpy.array([5,10,15,20])\nmatrix1 = numpy.array([[5,10],[10,20]])\nprint(vector)\nprint(matrix1)\nprint(vector.shape)\nprint(matrix1.shape)",
      "execution_count": 43,
      "outputs": [
        {
          "output_type": "stream",
          "text": "[ 5 10 15 20]\n[[ 5 10]\n [10 20]]\n(4,)\n(2, 2)\n",
          "name": "stdout"
        }
      ]
    },
    {
      "metadata": {
        "trusted": true
      },
      "cell_type": "code",
      "source": "matrix2 = numpy.array([[1,2],[3,'4']])\nprint(matrix2.dtype)",
      "execution_count": 31,
      "outputs": [
        {
          "output_type": "stream",
          "text": "<U21\n",
          "name": "stdout"
        }
      ]
    },
    {
      "metadata": {
        "trusted": true
      },
      "cell_type": "code",
      "source": "# select element\n\nworld_alcohol[1,0:2]",
      "execution_count": 39,
      "outputs": [
        {
          "output_type": "execute_result",
          "execution_count": 39,
          "data": {
            "text/plain": "array(['1986', 'Americas'], dtype='<U52')"
          },
          "metadata": {}
        }
      ]
    },
    {
      "metadata": {
        "trusted": true
      },
      "cell_type": "code",
      "source": "# compare\n\nresult = (matrix1 == 10)\nprint(result)\nprint(matrix1[result])\n\n\nmatrix3 = numpy.array(\n    [[5,10,15],\n    [20,25,30],\n    [35,40,45]]\n)\nsecond_column = (matrix3[:,1]==25)\nprint(second_column)\nprint(matrix3[:,second_column])",
      "execution_count": 49,
      "outputs": [
        {
          "output_type": "stream",
          "text": "[[False  True]\n [ True False]]\n[10 10]\n[False  True False]\n[[10]\n [25]\n [40]]\n",
          "name": "stdout"
        }
      ]
    },
    {
      "metadata": {
        "trusted": true
      },
      "cell_type": "code",
      "source": "# min max\nprint(matrix3.min())\nprint(matrix3.max())\nprint(matrix3.sum(axis=1)) #sum by row",
      "execution_count": 60,
      "outputs": [
        {
          "output_type": "stream",
          "text": "5\n45\n[ 30  75 120]\n",
          "name": "stdout"
        }
      ]
    },
    {
      "metadata": {
        "trusted": true
      },
      "cell_type": "code",
      "source": "# transform\n\nvector2 = numpy.array(['1','2','3'])\nprint(vector2.dtype)\nvector2 = vector2.astype(float)\nprint(vector2.dtype)\nprint(vector2)",
      "execution_count": 55,
      "outputs": [
        {
          "output_type": "stream",
          "text": "<U1\nfloat64\n[1. 2. 3.]\n",
          "name": "stdout"
        }
      ]
    },
    {
      "metadata": {
        "trusted": true
      },
      "cell_type": "code",
      "source": "# reshape\n\nprint(numpy.arange(15))\na = numpy.arange(15).reshape(3,5)\nprint(a)\nprint(a.ndim)\nprint(a.shape)\nprint(a.size)\nprint(a.dtype.name)",
      "execution_count": 75,
      "outputs": [
        {
          "output_type": "stream",
          "text": "[ 0  1  2  3  4  5  6  7  8  9 10 11 12 13 14]\n[[ 0  1  2  3  4]\n [ 5  6  7  8  9]\n [10 11 12 13 14]]\n2\n(3, 5)\n15\nint64\n",
          "name": "stdout"
        }
      ]
    },
    {
      "metadata": {
        "trusted": true
      },
      "cell_type": "code",
      "source": "# initialize\n\nprint( np.zeros((3,4)) )\nprint( np.ones((2,3,4), dtype=np.int32) )",
      "execution_count": 89,
      "outputs": [
        {
          "output_type": "stream",
          "text": "[[0. 0. 0. 0.]\n [0. 0. 0. 0.]\n [0. 0. 0. 0.]]\n[[[1 1 1 1]\n  [1 1 1 1]\n  [1 1 1 1]]\n\n [[1 1 1 1]\n  [1 1 1 1]\n  [1 1 1 1]]]\n",
          "name": "stdout"
        }
      ]
    },
    {
      "metadata": {
        "trusted": true
      },
      "cell_type": "code",
      "source": "# random\n\nprint(np.random.random((2,3)))\n\nfrom numpy import pi\nprint(np.linspace(0,2*pi,100))",
      "execution_count": 99,
      "outputs": [
        {
          "output_type": "stream",
          "text": "[[0.66162558 0.62833146 0.91027258]\n [0.58935784 0.61473036 0.72134275]]\n[0.         0.06346652 0.12693304 0.19039955 0.25386607 0.31733259\n 0.38079911 0.44426563 0.50773215 0.57119866 0.63466518 0.6981317\n 0.76159822 0.82506474 0.88853126 0.95199777 1.01546429 1.07893081\n 1.14239733 1.20586385 1.26933037 1.33279688 1.3962634  1.45972992\n 1.52319644 1.58666296 1.65012947 1.71359599 1.77706251 1.84052903\n 1.90399555 1.96746207 2.03092858 2.0943951  2.15786162 2.22132814\n 2.28479466 2.34826118 2.41172769 2.47519421 2.53866073 2.60212725\n 2.66559377 2.72906028 2.7925268  2.85599332 2.91945984 2.98292636\n 3.04639288 3.10985939 3.17332591 3.23679243 3.30025895 3.36372547\n 3.42719199 3.4906585  3.55412502 3.61759154 3.68105806 3.74452458\n 3.8079911  3.87145761 3.93492413 3.99839065 4.06185717 4.12532369\n 4.1887902  4.25225672 4.31572324 4.37918976 4.44265628 4.5061228\n 4.56958931 4.63305583 4.69652235 4.75998887 4.82345539 4.88692191\n 4.95038842 5.01385494 5.07732146 5.14078798 5.2042545  5.26772102\n 5.33118753 5.39465405 5.45812057 5.52158709 5.58505361 5.64852012\n 5.71198664 5.77545316 5.83891968 5.9023862  5.96585272 6.02931923\n 6.09278575 6.15625227 6.21971879 6.28318531]\n",
          "name": "stdout"
        }
      ]
    },
    {
      "metadata": {
        "trusted": true
      },
      "cell_type": "code",
      "source": "# multiplication, dot\n\nA = np.array([\n    [1,1],\n    [0,1]\n])\nB= np.array([\n    [2,0],\n    [3,4]\n])\nprint(A*B)\nprint(A.dot(B))\nprint(np.dot(A,B))",
      "execution_count": 106,
      "outputs": [
        {
          "output_type": "stream",
          "text": "[[2 0]\n [0 4]]\n[[5 4]\n [3 4]]\n[[2 2]\n [3 7]]\n[[5 4]\n [3 4]]\n",
          "name": "stdout"
        }
      ]
    },
    {
      "metadata": {
        "trusted": true
      },
      "cell_type": "code",
      "source": "# operation\n\na = np.floor(10*np.random.random((3,4)))\nprint(a)\n\nprint(a.ravel())\n\nprint(a.reshape(2,-1)) # -1 means default value\n\nprint(a.T)\n      ",
      "execution_count": 116,
      "outputs": [
        {
          "output_type": "stream",
          "text": "[[6. 6. 3. 9.]\n [9. 4. 4. 3.]\n [5. 8. 5. 0.]]\n[6. 6. 3. 9. 9. 4. 4. 3. 5. 8. 5. 0.]\n[[6. 6. 3. 9. 9. 4.]\n [4. 3. 5. 8. 5. 0.]]\n[[6. 9. 5.]\n [6. 4. 8.]\n [3. 4. 5.]\n [9. 3. 0.]]\n",
          "name": "stdout"
        }
      ]
    },
    {
      "metadata": {
        "trusted": true
      },
      "cell_type": "code",
      "source": "# stack\n\na = np.floor(10*np.random.random((3,4)))\nb = np.floor(10*np.random.random((3,4)))\n\nprint(a)\nprint(b)\n\nprint(np.hstack((a,b)))\nprint(np.vstack((a,b)))",
      "execution_count": 122,
      "outputs": [
        {
          "output_type": "stream",
          "text": "[[6. 2. 3. 2.]\n [6. 4. 2. 6.]\n [3. 4. 2. 1.]]\n[[2. 7. 3. 0.]\n [4. 0. 4. 2.]\n [0. 2. 1. 4.]]\n[[6. 2. 3. 2. 2. 7. 3. 0.]\n [6. 4. 2. 6. 4. 0. 4. 2.]\n [3. 4. 2. 1. 0. 2. 1. 4.]]\n[[6. 2. 3. 2.]\n [6. 4. 2. 6.]\n [3. 4. 2. 1.]\n [2. 7. 3. 0.]\n [4. 0. 4. 2.]\n [0. 2. 1. 4.]]\n",
          "name": "stdout"
        }
      ]
    },
    {
      "metadata": {
        "trusted": true
      },
      "cell_type": "code",
      "source": "# split\n\na = np.floor(10*np.random.random((2,12)))\nprint(a)\nprint( np.vsplit(a,2) )\nprint( np.hsplit(a,4) )\nprint( np.hsplit(a,(3,4)) )",
      "execution_count": 128,
      "outputs": [
        {
          "output_type": "stream",
          "text": "[[5. 3. 5. 1. 1. 5. 7. 8. 9. 3. 0. 6.]\n [8. 7. 8. 9. 3. 0. 7. 0. 3. 0. 4. 4.]]\n[array([[5., 3., 5., 1., 1., 5., 7., 8., 9., 3., 0., 6.]]), array([[8., 7., 8., 9., 3., 0., 7., 0., 3., 0., 4., 4.]])]\n[array([[5., 3., 5.],\n       [8., 7., 8.]]), array([[1., 1., 5.],\n       [9., 3., 0.]]), array([[7., 8., 9.],\n       [7., 0., 3.]]), array([[3., 0., 6.],\n       [0., 4., 4.]])]\n[array([[5., 3., 5.],\n       [8., 7., 8.]]), array([[1.],\n       [9.]]), array([[1., 5., 7., 8., 9., 3., 0., 6.],\n       [3., 0., 7., 0., 3., 0., 4., 4.]])]\n",
          "name": "stdout"
        }
      ]
    },
    {
      "metadata": {
        "trusted": true
      },
      "cell_type": "code",
      "source": "# assignment\n\na = np.arange(12)\nb = a\nb.shape = (3,4)\nprint(a)\nprint(b)\nprint(id(a))\nprint(id(b))\nprint(a is b)\nprint('-'*20)\n\nc = a.view() # different id but same value\nprint(c is a)\nc.shape = 2,6\nprint(a)\nprint(id(a))\nprint(id(c))\nc[1,1] = 555\nprint(a)\nprint('-'*20)\n\nd = a.copy() # totally different\nprint(d is a)\nprint(id(a))\nprint(id(d))",
      "execution_count": 140,
      "outputs": [
        {
          "output_type": "stream",
          "text": "[[ 0  1  2  3]\n [ 4  5  6  7]\n [ 8  9 10 11]]\n[[ 0  1  2  3]\n [ 4  5  6  7]\n [ 8  9 10 11]]\n140342804717360\n140342804717360\nTrue\n--------------------\nFalse\n[[ 0  1  2  3]\n [ 4  5  6  7]\n [ 8  9 10 11]]\n140342804717360\n140342804787488\n[[  0   1   2   3]\n [  4   5   6 555]\n [  8   9  10  11]]\n--------------------\nFalse\n140342804717360\n140342804787408\n",
          "name": "stdout"
        }
      ]
    },
    {
      "metadata": {
        "trusted": true
      },
      "cell_type": "code",
      "source": "# argmax\n\ndata = np.sin(np.arange(20)).reshape(5,4)\nprint(data)\nind = data.argmax(axis=0) # maximum value for each column\nprint(ind)\n\ndata_max = data[ind, range(data.shape[1])]\nprint(data_max)",
      "execution_count": 157,
      "outputs": [
        {
          "output_type": "stream",
          "text": "[[ 0.          0.84147098  0.90929743  0.14112001]\n [-0.7568025  -0.95892427 -0.2794155   0.6569866 ]\n [ 0.98935825  0.41211849 -0.54402111 -0.99999021]\n [-0.53657292  0.42016704  0.99060736  0.65028784]\n [-0.28790332 -0.96139749 -0.75098725  0.14987721]]\n[2 0 3 1]\n[0.98935825 0.84147098 0.99060736 0.6569866 ]\n",
          "name": "stdout"
        }
      ]
    },
    {
      "metadata": {
        "trusted": true
      },
      "cell_type": "code",
      "source": "# tile\n\na = np.arange(0,40,10)\nprint(a)\nb = np.tile(a,(3,5))\nprint(b)",
      "execution_count": 159,
      "outputs": [
        {
          "output_type": "stream",
          "text": "[ 0 10 20 30]\n[[ 0 10 20 30  0 10 20 30  0 10 20 30  0 10 20 30  0 10 20 30]\n [ 0 10 20 30  0 10 20 30  0 10 20 30  0 10 20 30  0 10 20 30]\n [ 0 10 20 30  0 10 20 30  0 10 20 30  0 10 20 30  0 10 20 30]]\n",
          "name": "stdout"
        }
      ]
    },
    {
      "metadata": {
        "trusted": true
      },
      "cell_type": "code",
      "source": "# sort, argsort\n\na = np.array([\n    [4,3,5,],\n    [1,2,1]\n])\nprint(a)\nb= np.sort(a,axis=1) # sort by row\nprint(b)\nprint('-'*20)\n\na = np.array([4,3,1,2])\nj = np.argsort(a) # index from smallest number\nprint(j)\nprint(a[j])",
      "execution_count": 165,
      "outputs": [
        {
          "output_type": "stream",
          "text": "[[4 3 5]\n [1 2 1]]\n[[3 4 5]\n [1 1 2]]\n--------------------\n[2 3 1 0]\n[1 2 3 4]\n",
          "name": "stdout"
        }
      ]
    }
  ],
  "metadata": {
    "kernelspec": {
      "name": "python36",
      "display_name": "Python 3.6",
      "language": "python"
    },
    "language_info": {
      "mimetype": "text/x-python",
      "nbconvert_exporter": "python",
      "name": "python",
      "pygments_lexer": "ipython3",
      "version": "3.6.6",
      "file_extension": ".py",
      "codemirror_mode": {
        "version": 3,
        "name": "ipython"
      }
    }
  },
  "nbformat": 4,
  "nbformat_minor": 2
}